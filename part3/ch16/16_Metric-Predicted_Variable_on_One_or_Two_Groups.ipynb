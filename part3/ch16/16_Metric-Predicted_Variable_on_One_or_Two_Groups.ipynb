{
 "cells": [
  {
   "cell_type": "markdown",
   "metadata": {},
   "source": [
    "# CHAPTER 16. Metric-Predicted Variable on One or Two Groups"
   ]
  },
  {
   "cell_type": "markdown",
   "metadata": {},
   "source": [
    "# Contents"
   ]
  },
  {
   "cell_type": "markdown",
   "metadata": {},
   "source": [
    "* 16.1. Estimating the Mean and Standard Deviation of a Normal Distribution\n",
    "* 16.2. Outliers and Robust Estimation : The t Distribution\n",
    "* 16.3. Two Groups\n",
    "* 16.4. Other Noise Distributions and Transforming Data\n",
    "* 16.5. EXERCISES"
   ]
  },
  {
   "cell_type": "markdown",
   "metadata": {},
   "source": [
    "<img src=\"figures/tbl15.3.png\" width=600 />"
   ]
  },
  {
   "cell_type": "markdown",
   "metadata": {},
   "source": [
    "In this chapter, we consider a situation in which we have a <font color=\"red\">metric-predicted variable</font> that is observed for items <font color=\"blue\">from one or two groups</font>."
   ]
  },
  {
   "cell_type": "markdown",
   "metadata": {},
   "source": [
    "* For example, \n",
    "    - we could measure \n",
    "        - the <font color=\"red\">blood pressure</font> (i.e., a metric variable) for people \n",
    "        - randomly sampled <font color=\"blue\">from first-year university students</font> (i.e., a single group).\n",
    "    - In this case, we might be interested in \n",
    "        - how much the <font color=\"orange\">group’s typical blood pressure differs</font> \n",
    "        - from the recommended value for people of that age as published by a federal agency."
   ]
  },
  {
   "cell_type": "markdown",
   "metadata": {},
   "source": [
    "* As another example, \n",
    "    - we could measure \n",
    "        - the <font color=\"red\">IQ</font> (i.e., a metric variable) of people \n",
    "        - randomly sampled from everyone self-described as <font color=\"blue\">vegetarian</font> (i.e., a single group). \n",
    "    - In this case, we could be interested in \n",
    "        - how much this <font color=\"orange\">group’s IQ differs</font> \n",
    "        - from the general population’s average IQ of 100."
   ]
  },
  {
   "cell_type": "markdown",
   "metadata": {},
   "source": [
    "<img src=\"figures/tbl15.1.png\" width=600 />"
   ]
  },
  {
   "cell_type": "markdown",
   "metadata": {},
   "source": [
    "* In the context of the generalized linear model (GLM) introduced in the previous chapter, this chapter’s situation involves the most trivial cases of the linear core of the GLM, as indicated in the left cells of Table 15.1 (p. 434), with a link function that is the identity along with a normal distribution for describing noise in the data, as indicated in the first row of Table 15.2 (p. 443). "
   ]
  },
  {
   "cell_type": "markdown",
   "metadata": {},
   "source": [
    "<img src=\"figures/tbl15.2.png\" width=600 />"
   ]
  },
  {
   "cell_type": "markdown",
   "metadata": {},
   "source": [
    "* We will explore options for the prior distribution on parameters of the normal distribution, and methods for Bayesian estimation of the parameters. \n",
    "* We will also consider alternative noise distributions for describing data that have outliers."
   ]
  },
  {
   "cell_type": "markdown",
   "metadata": {},
   "source": [
    "# 16.1. Estimating the Mean and Standard Deviation of a Normal Distribution"
   ]
  },
  {
   "cell_type": "markdown",
   "metadata": {},
   "source": [
    "* 16.1.1 Solution by mathematical analysis\n",
    "* 16.1.2 Approximation by MCMC in JAGS"
   ]
  },
  {
   "cell_type": "markdown",
   "metadata": {},
   "source": [
    "The normal distribution specifies the probability density of a value y, given the values of two\n",
    "parameters, the mean μ and standard deviation σ :"
   ]
  },
  {
   "cell_type": "markdown",
   "metadata": {},
   "source": [
    "<img src=\"figures/eq16.1.png\" width=600 />"
   ]
  },
  {
   "cell_type": "markdown",
   "metadata": {},
   "source": [
    "* To get an intuition for the <font color=\"red\">normal distribution as a likelihood function</font>, consider three data values y1 = 85, y2 = 100, and y3 = 115, which are plotted as large dots in Figure 16.1. "
   ]
  },
  {
   "cell_type": "markdown",
   "metadata": {},
   "source": [
    "* Figure 16.1 <font color=\"red\">shows p(D|μ, σ ) for different values of μ and σ</font> . As you can see, there are values of μ and σ that make the data most probable, but other nearby values also accommodate the data reasonably well"
   ]
  },
  {
   "cell_type": "markdown",
   "metadata": {},
   "source": [
    "<img src=\"figures/fig16.1.png\" width=600 />"
   ]
  },
  {
   "cell_type": "markdown",
   "metadata": {},
   "source": [
    "<font color=\"red\">The question is, given the data, how should we allocate credibility to combinations of μ and σ?</font>"
   ]
  },
  {
   "cell_type": "markdown",
   "metadata": {},
   "source": [
    "* likelhood \n",
    "    - Figure 16.1 shows examples of p(D|μ, σ ) for a particular data set at different values of μ and σ \n",
    "* prior \n",
    "    -The prior, p(μ,σ), specifies the credibility of each combination of μ,σ values in the two-dimensional joint parameter space, without the data.\n",
    "*  posterior\n",
    "    - Bayes’ rule says that the posterior credibility of each combination of μ, σ values is the prior credibility times the likelihood, normalized by the marginal likelihood."
   ]
  },
  {
   "cell_type": "markdown",
   "metadata": {},
   "source": [
    "<img src=\"figures/eq16.2.png\" width=600 />"
   ]
  },
  {
   "cell_type": "markdown",
   "metadata": {},
   "source": [
    "<font color=\"red\">Our goal now is to evaluate Equation 16.2 for reasonable choices of the prior distribution, p(μ, σ ).</font>"
   ]
  },
  {
   "cell_type": "markdown",
   "metadata": {},
   "source": [
    "## 16.1.1 Solution by mathematical analysis"
   ]
  },
  {
   "cell_type": "markdown",
   "metadata": {},
   "source": [
    "* We take a short algebraic tour before moving on to MCMC implementations."
   ]
  },
  {
   "cell_type": "markdown",
   "metadata": {},
   "source": [
    "### When σ is fixed, "
   ]
  },
  {
   "cell_type": "markdown",
   "metadata": {
    "collapsed": true
   },
   "source": [
    "* It is convenient first to consider the case in which the standard deviation of the likelihood function is fixed at a specific value. In other words, <font color=\"red\">the prior distribution on σ is a spike over that specific value</font>. We’ll denote that <font color=\"red\">fixed value as σ = Sy</font>.  \n",
    "* With this simplifying assumption, <font color=\"red\">we are only estimating μ</font> because we are <font color=\"red\">assuming perfectly certain prior knowledge about σ</font> .\n",
    "* proir : When σ is fixed, then the <font color=\"red\">prior distribution on μ</font> in Equation 16.2 can be easily chosen to be <font color=\"red\">conjugate to the normal likelihood</font>.\n",
    "    - The term “conjugate prior” was defined in Section 6.2, p. 126.\n",
    "    - It turns out that the product of normal distributions is again a normal distribution; \n",
    "    - in other words, if the prior on μ is normal, then the posterior on μ is normal.\n",
    "    - <font color=\"red\">Let the prior distribution on μ be normal with mean Mμ and standard deviation Sμ</font> .\n",
    "* likelihood * prior : "
   ]
  },
  {
   "cell_type": "markdown",
   "metadata": {},
   "source": [
    "<img src=\"figures/eq16.3.png\" width=600 />"
   ]
  },
  {
   "cell_type": "markdown",
   "metadata": {},
   "source": [
    "<img src=\"figures/eq16.4.png\" width=600 />"
   ]
  },
  {
   "cell_type": "markdown",
   "metadata": {},
   "source": [
    "<img src=\"figures/cap16.3.png\" width=600 />"
   ]
  },
  {
   "cell_type": "markdown",
   "metadata": {},
   "source": [
    "##### precision & posterior precision"
   ]
  },
  {
   "cell_type": "markdown",
   "metadata": {},
   "source": [
    "<img src=\"figures/cap16.4.png\" width=600 />"
   ]
  },
  {
   "cell_type": "markdown",
   "metadata": {},
   "source": [
    "<img src=\"figures/eq16.5.png\" width=600 />"
   ]
  },
  {
   "cell_type": "markdown",
   "metadata": {},
   "source": [
    "* <font color=\"red\">Thus, the posterior precision is the sum of the prior precision and the likelihood precision.</font>"
   ]
  },
  {
   "cell_type": "markdown",
   "metadata": {},
   "source": [
    "##### posterior mean"
   ]
  },
  {
   "cell_type": "markdown",
   "metadata": {},
   "source": [
    "<img src=\"figures/cap16.5.png\" width=600 />"
   ]
  },
  {
   "cell_type": "markdown",
   "metadata": {},
   "source": [
    "<img src=\"figures/eq16.6.png\" width=600 />"
   ]
  },
  {
   "cell_type": "markdown",
   "metadata": {},
   "source": [
    "* <font color=\"red\">In other words, the posterior mean is a weighted average of the prior mean and the datum, with the weighting corresponding to the relative precisions of the prior and the likelihood.</font>"
   ]
  },
  {
   "cell_type": "markdown",
   "metadata": {},
   "source": [
    "#### N value case"
   ]
  },
  {
   "cell_type": "markdown",
   "metadata": {},
   "source": [
    "<img src=\"figures/cap16.6.png\" width=600 />"
   ]
  },
  {
   "cell_type": "markdown",
   "metadata": {},
   "source": [
    "##### posterior mean"
   ]
  },
  {
   "cell_type": "markdown",
   "metadata": {},
   "source": [
    "<img src=\"figures/cap16.1.png\" width=600 />"
   ]
  },
  {
   "cell_type": "markdown",
   "metadata": {},
   "source": [
    "##### posterior precision"
   ]
  },
  {
   "cell_type": "markdown",
   "metadata": {},
   "source": [
    "<img src=\"figures/cap16.2.png\" />"
   ]
  },
  {
   "cell_type": "markdown",
   "metadata": {},
   "source": [
    "* Notice that as the sample size N increases, the posterior mean is dominated by the data mean.\n"
   ]
  },
  {
   "cell_type": "markdown",
   "metadata": {},
   "source": [
    "### When μ is fixed, "
   ]
  },
  {
   "cell_type": "markdown",
   "metadata": {},
   "source": [
    "* We can instead <font color=\"red\">estimate the σ parameter</font> when μ is fixed. \n",
    "* It turns out that when μ is fixed, a <font color=\"red\">conjugate prior for the precision</font> is <font color=\"red\">the gamma distribution</font> (e.g., Gelman et al., 2013, p. 43). \n",
    "    - It is important to <font color=\"red\">understand the meaning of a gamma prior on precision</font>. \n",
    "    - Consider a gamma distribution \n",
    "        - that is loaded <font color=\"orange\">heavily over very small values, but has a long shallow tail extending over large values</font>. \n",
    "            - This sort of  gamma distribution on precision indicates that <font color=\"orange\">we believe most strongly in small precisions</font>, but we <font color=\"orange\">admit that large precisions are possible</font>. \n",
    "            - If this is a <font color=\"orange\">belief about the precision of a normal likelihood function</font>, then this sort of <font color=\"orange\">gamma distribution expresses a belief that the data will be more spread out</font>, because <font color=\"orange\">small precisions imply large standard deviations</font>. \n",
    "        -  If the gamma distribution is instead loaded over <font color=\"blue\">large values of precision</font>, \n",
    "            - it expresses a <font color=\"blue\">belief that the data will be tightly clustered</font>."
   ]
  },
  {
   "cell_type": "markdown",
   "metadata": {},
   "source": [
    "##### 참고: gamma distribution ?\n",
    "\n",
    "* https://en.wikipedia.org/wiki/Gamma_distribution"
   ]
  },
  {
   "cell_type": "markdown",
   "metadata": {},
   "source": [
    "<img src=\"https://upload.wikimedia.org/wikipedia/commons/f/fc/Gamma_distribution_pdf.png\" width=600 />"
   ]
  },
  {
   "cell_type": "markdown",
   "metadata": {},
   "source": [
    "##### conjugate priors & gamma distiribution & precision"
   ]
  },
  {
   "cell_type": "markdown",
   "metadata": {},
   "source": [
    "* Because of its role in <font color=\"red\">conjugate priors for the normal likelihood function</font>, the <font color=\"red\">gamma distribution is routinely used</font> as a <font color=\"red\">prior on precision</font>. \n",
    "* But there is no logical necessity to do so, and <font color=\"red\">modern MCMC methods permit more flexible</font> specification of priors. \n",
    "* Indeed, <font color=\"red\">because precision is less intuitive than standard deviation</font>, it can be <font color=\"red\">more useful instead to give the standard deviation a uniform prior that spans a wide range</font>."
   ]
  },
  {
   "cell_type": "markdown",
   "metadata": {},
   "source": [
    "### Summary"
   ]
  },
  {
   "cell_type": "markdown",
   "metadata": {},
   "source": [
    "We have assumed that the data are generated by a normal likelihood function,\n",
    "parameterized by a mean μ and standard deviation σ , and denoted y ∼ normal(y|μ, σ ).\n",
    "For purposes of mathematical derivation, we made unrealistic assumptions that the prior\n",
    "distribution is either a spike on σ or a spike on μ, in order to make three main\n",
    "points:\n"
   ]
  },
  {
   "cell_type": "markdown",
   "metadata": {},
   "source": [
    "1. <font color=\"red\">A natural way to express a prior on μ</font> is with a <font color=\"red\">normal distribution</font>, because this is <font color=\"red\">conjugate</font> with the <font color=\"red\">normal likelihood</font> when its <font color=\"red\">standard deviation is fixed</font>.\n",
    "2. <font color=\"red\">A way to express a prior on the precision</font> 1/σ 2 is with a <font color=\"red\">gamma distribution</font>, because this is <font color=\"red\">conjugate with the normal likelihood when its mean is fixed</font>. However <font color=\"blue\">in practice</font> the <font color=\"blue\">standard deviation</font> can instead be <font color=\"blue\">given a uniform prior</font> (or anything else that reflects prior beliefs, of course).\n",
    "3. The <font color=\"red\">formulas for Bayesian updating</font> of the parameter distribution are <font color=\"red\">more conveniently expressed</font> in terms of <font color=\"red\">precision than standard deviation</font>. <font color=\"red\">Normal distributions are described</font> <font color=\"orange\">sometimes</font> in terms of <font color=\"orange\">standard deviation</font> and <font color=\"green\">sometimes</font> in terms of <font color=\"green\">precision</font>, so it is important to glean from context which is being referred to. <font color=\"red\">In R and Stan</font>, the <font color=\"red\">normal distribution</font> is parameterized <font color=\"red\">by mean and standard deviation</font>. <font color=\"blue\">In JAGS and BUGS</font>, the normal distribution is parameterized <font color=\"blue\">by mean and precision</font>."
   ]
  },
  {
   "cell_type": "markdown",
   "metadata": {},
   "source": [
    "## 16.1.2 Approximation by MCMC in JAGS"
   ]
  },
  {
   "cell_type": "markdown",
   "metadata": {},
   "source": [
    "It is easy to estimate the mean and standard deviation in JAGS."
   ]
  },
  {
   "cell_type": "markdown",
   "metadata": {},
   "source": [
    "* The right panel of Figure 16.2 instead puts a broad uniform distribution directly\n",
    "on σ . The low and high values of the uniform distribution are set to be far outside any realistic\n",
    "value for the data, so that the prior has minimal influence on the posterior. \n",
    "* The uniform prior on σ is easier to intuit than a gamma prior on precision, but the priors are not equivalent."
   ]
  },
  {
   "cell_type": "markdown",
   "metadata": {},
   "source": [
    "<img src=\"figures/fig16.2.png\" width=600 />"
   ]
  },
  {
   "cell_type": "code",
   "execution_count": null,
   "metadata": {
    "collapsed": true
   },
   "outputs": [],
   "source": [
    "dataList = list(\n",
    "    y = y ,\n",
    "    Ntotal = length(y) ,\n",
    "    meanY = mean(y) ,\n",
    "    sdY = sd(y)\n",
    ")"
   ]
  },
  {
   "cell_type": "code",
   "execution_count": null,
   "metadata": {
    "collapsed": true
   },
   "outputs": [],
   "source": [
    "model {\n",
    "    for ( i in 1:Ntotal ) {\n",
    "        y[i]  ̃ dnorm( mu , 1/sigmaˆ2 ) # JAGS uses precision\n",
    "    }\n",
    "    mu  ̃ dnorm( meanY , 1/(100*sdY)ˆ2 ) # JAGS uses precision\n",
    "    sigma  ̃ dunif( sdY/1000 , sdY*1000 )\n",
    "}"
   ]
  },
  {
   "cell_type": "markdown",
   "metadata": {},
   "source": [
    "* For purposes of illustration, we use fictitious data.\n",
    "* The data are \n",
    "    - <font color=\"red\">IQ</font> (intelligence quotient) scores \n",
    "        - from <font color=\"red\">a group</font> of people who have consumed a <font color=\"red\">“smart drug.”</font> \n",
    "    - We know that IQ tests have been normed to the general population so that they have an <font color=\"blue\">average score of 100 and a standard deviation of 15</font>. \n",
    "* Therefore, we would like to know <font color=\"red\">how differently the smart-drug group</font> has performed relative to the <font color=\"red\">general population average</font>."
   ]
  },
  {
   "cell_type": "markdown",
   "metadata": {},
   "source": [
    "<img src=\"figures/fig16.3.png\" width=600 />"
   ]
  },
  {
   "cell_type": "markdown",
   "metadata": {},
   "source": [
    "#### Jags-Ymet-Xnom1grp-Mnormal-Example.R"
   ]
  },
  {
   "cell_type": "code",
   "execution_count": 3,
   "metadata": {
    "collapsed": true
   },
   "outputs": [],
   "source": [
    "# 책에는 없는 코드. 실습을 위해 data 폴더에 넣은 코드를 실행시키기 위한 작업\n",
    "cur_dir = getwd()\n",
    "setwd(sprintf(\"%s/%s\", cur_dir, 'data'))"
   ]
  },
  {
   "cell_type": "code",
   "execution_count": 4,
   "metadata": {
    "collapsed": true
   },
   "outputs": [],
   "source": [
    "# Example for Jags-Ymet-Xnom1grp-Mnormal.R \n",
    "#------------------------------------------------------------------------------- \n",
    "# Optional generic preliminaries:\n",
    "#graphics.off() # This closes all of R's graphics windows.\n",
    "#rm(list=ls())  # Careful! This clears all of R's memory!"
   ]
  },
  {
   "cell_type": "code",
   "execution_count": 5,
   "metadata": {
    "collapsed": true
   },
   "outputs": [],
   "source": [
    "#------------------------------------------------------------------------------- \n",
    "# Load The data file \n",
    "myDataFrame = read.csv( file=\"TwoGroupIQ.csv\" )"
   ]
  },
  {
   "cell_type": "code",
   "execution_count": 7,
   "metadata": {
    "collapsed": false
   },
   "outputs": [
    {
     "data": {
      "text/html": [
       "<table>\n",
       "<thead><tr><th></th><th scope=col>Score</th><th scope=col>Group</th></tr></thead>\n",
       "<tbody>\n",
       "\t<tr><th scope=row>1</th><td>102</td><td>Smart Drug</td></tr>\n",
       "\t<tr><th scope=row>2</th><td>107</td><td>Smart Drug</td></tr>\n",
       "\t<tr><th scope=row>3</th><td>92</td><td>Smart Drug</td></tr>\n",
       "\t<tr><th scope=row>4</th><td>101</td><td>Smart Drug</td></tr>\n",
       "\t<tr><th scope=row>5</th><td>110</td><td>Smart Drug</td></tr>\n",
       "\t<tr><th scope=row>6</th><td>68</td><td>Smart Drug</td></tr>\n",
       "</tbody>\n",
       "</table>\n"
      ],
      "text/latex": [
       "\\begin{tabular}{r|ll}\n",
       "  & Score & Group\\\\\n",
       "\\hline\n",
       "\t1 & 102 & Smart Drug\\\\\n",
       "\t2 & 107 & Smart Drug\\\\\n",
       "\t3 & 92 & Smart Drug\\\\\n",
       "\t4 & 101 & Smart Drug\\\\\n",
       "\t5 & 110 & Smart Drug\\\\\n",
       "\t6 & 68 & Smart Drug\\\\\n",
       "\\end{tabular}\n"
      ],
      "text/plain": [
       "  Score      Group\n",
       "1   102 Smart Drug\n",
       "2   107 Smart Drug\n",
       "3    92 Smart Drug\n",
       "4   101 Smart Drug\n",
       "5   110 Smart Drug\n",
       "6    68 Smart Drug"
      ]
     },
     "execution_count": 7,
     "metadata": {},
     "output_type": "execute_result"
    }
   ],
   "source": [
    "head(myDataFrame)"
   ]
  },
  {
   "cell_type": "code",
   "execution_count": 8,
   "metadata": {
    "collapsed": false
   },
   "outputs": [
    {
     "data": {
      "text/plain": [
       "     Score               Group   \n",
       " Min.   : 50.00   Placebo   :57  \n",
       " 1st Qu.: 92.75   Smart Drug:63  \n",
       " Median :102.00                  \n",
       " Mean   :104.13                  \n",
       " 3rd Qu.:112.00                  \n",
       " Max.   :208.00                  "
      ]
     },
     "execution_count": 8,
     "metadata": {},
     "output_type": "execute_result"
    }
   ],
   "source": [
    "summary(myDataFrame)"
   ]
  },
  {
   "cell_type": "code",
   "execution_count": 9,
   "metadata": {
    "collapsed": true
   },
   "outputs": [],
   "source": [
    "# For purposes of this one-group example, use data from Smart Drug group:\n",
    "myData = myDataFrame$Score[myDataFrame$Group==\"Smart Drug\"]"
   ]
  },
  {
   "cell_type": "code",
   "execution_count": 10,
   "metadata": {
    "collapsed": true
   },
   "outputs": [],
   "source": [
    "#------------------------------------------------------------------------------- \n",
    "# Optional: Specify filename root and graphical format for saving output.\n",
    "# Otherwise specify as NULL or leave saveName and saveType arguments \n",
    "# out of function calls.\n",
    "fileNameRoot = \"OneGroupIQnormal-\" \n",
    "graphFileType = \"png\"  #\"eps\" "
   ]
  },
  {
   "cell_type": "code",
   "execution_count": 11,
   "metadata": {
    "collapsed": false
   },
   "outputs": [
    {
     "name": "stdout",
     "output_type": "stream",
     "text": [
      "\n",
      "*********************************************************************\n",
      "Kruschke, J. K. (2015). Doing Bayesian Data Analysis, Second Edition:\n",
      "A Tutorial with R, JAGS, and Stan. Academic Press / Elsevier.\n",
      "*********************************************************************\n",
      "\n"
     ]
    },
    {
     "name": "stderr",
     "output_type": "stream",
     "text": [
      "Installing packages into ‘/home/moosung/R/x86_64-pc-linux-gnu-library/3.2’\n",
      "(as ‘lib’ is unspecified)\n"
     ]
    },
    {
     "ename": "ERROR",
     "evalue": "Error in contrib.url(repos, type): trying to use CRAN without setting a mirror\n",
     "output_type": "error",
     "traceback": [
      "Error in contrib.url(repos, type): trying to use CRAN without setting a mirror\n"
     ]
    }
   ],
   "source": [
    "#------------------------------------------------------------------------------- \n",
    "# Load the relevant model into R's working memory:\n",
    "source(\"Jags-Ymet-Xnom1grp-Mnormal.R\")"
   ]
  },
  {
   "cell_type": "code",
   "execution_count": null,
   "metadata": {
    "collapsed": true
   },
   "outputs": [],
   "source": [
    "#------------------------------------------------------------------------------- \n",
    "# Generate the MCMC chain:\n",
    "mcmcCoda = genMCMC( data=myData , numSavedSteps=20000 , saveName=fileNameRoot )"
   ]
  },
  {
   "cell_type": "code",
   "execution_count": null,
   "metadata": {
    "collapsed": true
   },
   "outputs": [],
   "source": [
    "#------------------------------------------------------------------------------- \n",
    "# Display diagnostics of chain, for specified parameters:\n",
    "parameterNames = varnames(mcmcCoda) # get all parameter names\n",
    "for ( parName in parameterNames ) {\n",
    "  diagMCMC( codaObject=mcmcCoda , parName=parName , \n",
    "            saveName=fileNameRoot , saveType=graphFileType )\n",
    "}"
   ]
  },
  {
   "cell_type": "code",
   "execution_count": null,
   "metadata": {
    "collapsed": true
   },
   "outputs": [],
   "source": [
    "# 창으로 뜨는 것들을 없앤다.\n",
    "graphics.off()"
   ]
  },
  {
   "cell_type": "code",
   "execution_count": null,
   "metadata": {
    "collapsed": true
   },
   "outputs": [],
   "source": [
    "#------------------------------------------------------------------------------- \n",
    "# Get summary statistics of chain:\n",
    "summaryInfo = smryMCMC( mcmcCoda , \n",
    "                        compValMu=100.0 , ropeMu=c(99.0,101.0) ,\n",
    "                        compValSigma=15.0 , ropeSigma=c(14,16) ,\n",
    "                        compValEff=0.0 , ropeEff=c(-0.1,0.1) ,\n",
    "                        saveName=fileNameRoot )\n",
    "show(summaryInfo)"
   ]
  },
  {
   "cell_type": "code",
   "execution_count": null,
   "metadata": {
    "collapsed": true
   },
   "outputs": [],
   "source": [
    "# Display posterior information:\n",
    "plotMCMC( mcmcCoda , data=myData , \n",
    "          compValMu=100.0 , ropeMu=c(99.0,101.0) ,\n",
    "          compValSigma=15.0 , ropeSigma=c(14,16) ,\n",
    "          compValEff=0.0 , ropeEff=c(-0.1,0.1) ,\n",
    "          pairsPlot=TRUE , showCurve=FALSE ,\n",
    "          saveName=fileNameRoot , saveType=graphFileType )"
   ]
  },
  {
   "cell_type": "code",
   "execution_count": null,
   "metadata": {
    "collapsed": true
   },
   "outputs": [],
   "source": [
    "graphics.off()"
   ]
  },
  {
   "cell_type": "markdown",
   "metadata": {},
   "source": [
    "# 16.2. Outliers and Robust Estimation : The t Distribution"
   ]
  },
  {
   "cell_type": "markdown",
   "metadata": {},
   "source": [
    "* 16.2.1 Using the t distribution in JAGS\n",
    "* 16.2.2 Using the t distribution in Stan"
   ]
  },
  {
   "cell_type": "markdown",
   "metadata": {},
   "source": [
    "<img src=\"figures/fig16.4.png\" width=600 />"
   ]
  },
  {
   "cell_type": "markdown",
   "metadata": {},
   "source": [
    "<img src=\"figures/fig16.5.png\" width=600 />"
   ]
  },
  {
   "cell_type": "markdown",
   "metadata": {},
   "source": [
    "<img src=\"figures/fig16.6.png\" width=600 />"
   ]
  },
  {
   "cell_type": "markdown",
   "metadata": {},
   "source": [
    "## 16.2.1 Using the t distribution in JAGS"
   ]
  },
  {
   "cell_type": "markdown",
   "metadata": {},
   "source": [
    "<img src=\"figures/fig16.7.png\" width=600 />"
   ]
  },
  {
   "cell_type": "markdown",
   "metadata": {},
   "source": [
    "<img src=\"figures/fig16.8.png\" width=600 />"
   ]
  },
  {
   "cell_type": "markdown",
   "metadata": {},
   "source": [
    "## 16.2.2 Using the t distribution in Stan"
   ]
  },
  {
   "cell_type": "markdown",
   "metadata": {},
   "source": [
    "<img src=\"figures/fig16.9.png\" width=600 />"
   ]
  },
  {
   "cell_type": "markdown",
   "metadata": {},
   "source": [
    "<img src=\"figures/fig16.10-1.png\" width=600 />"
   ]
  },
  {
   "cell_type": "markdown",
   "metadata": {},
   "source": [
    "<img src=\"figures/fig16.10-2.png\" width=600 />"
   ]
  },
  {
   "cell_type": "markdown",
   "metadata": {},
   "source": [
    "# 16.3. Two Groups"
   ]
  },
  {
   "cell_type": "markdown",
   "metadata": {},
   "source": [
    "* 16.3.1 Analysis by NHST"
   ]
  },
  {
   "cell_type": "markdown",
   "metadata": {},
   "source": [
    "<img src=\"figures/fig16.11.png\" width=600 />"
   ]
  },
  {
   "cell_type": "markdown",
   "metadata": {},
   "source": [
    "## 16.3.1 Analysis by NHST"
   ]
  },
  {
   "cell_type": "markdown",
   "metadata": {},
   "source": [
    "<img src=\"figures/fig16.12.png\" width=600 />"
   ]
  },
  {
   "cell_type": "markdown",
   "metadata": {},
   "source": [
    "# 16.4. Other Noise Distributions and Transforming Data"
   ]
  },
  {
   "cell_type": "markdown",
   "metadata": {},
   "source": [
    "# 16.5. EXERCISES"
   ]
  },
  {
   "cell_type": "markdown",
   "metadata": {},
   "source": [
    "### Exercise 16.1."
   ]
  },
  {
   "cell_type": "markdown",
   "metadata": {},
   "source": [
    "#### [Purpose: Practice using different data files in the high-level script, with an interesting real example about alcohol preference of sexually frustrated males.]"
   ]
  },
  {
   "cell_type": "markdown",
   "metadata": {},
   "source": [
    "<img src=\"figures/fig16.13.png\" width=600 />"
   ]
  },
  {
   "cell_type": "markdown",
   "metadata": {},
   "source": [
    "# 참고자료"
   ]
  }
 ],
 "metadata": {
  "kernelspec": {
   "display_name": "R",
   "language": "",
   "name": "ir"
  },
  "language_info": {
   "codemirror_mode": "r",
   "file_extension": ".r",
   "mimetype": "text/x-r-source",
   "name": "R",
   "pygments_lexer": "r",
   "version": "3.2.1"
  }
 },
 "nbformat": 4,
 "nbformat_minor": 0
}
