{
 "cells": [
  {
   "cell_type": "markdown",
   "metadata": {},
   "source": [
    "# by sol2man2"
   ]
  },
  {
   "cell_type": "markdown",
   "metadata": {},
   "source": [
    "* 두개 명목 척도 값을 관찰한다 치자.\n",
    "* 선거가 있고 정치적 친밀과 후보 취향으로 뽑는 상황이다.\n",
    "* 정당의 친밀도와 후보 취향의 특정 조합에 투표수가 몰린다.\n",
    "* 당선이 우리가 예측하려는 숫자이다."
   ]
  },
  {
   "cell_type": "markdown",
   "metadata": {},
   "source": [
    "* 전통적으로 이런 자료 구조는 카이스퀘어 테스트로 푼다.\n",
    "* 그러나 우린 베이지안 접근을 쓸거다. 결론적으로 까이스꿰어의 피벨류가 필요없다.\n",
    "* 베이지안 접근은 결합 비율과 조건 비교 시에 신용구간을 포함한 풍부한 정보를 제공한다."
   ]
  },
  {
   "cell_type": "markdown",
   "metadata": {},
   "source": [
    "* ch. 15의 GLM에 맥락에서 셈 예측값이 소개되었음\n",
    "* 우리는 Poisson 분포에서 나오는 exponential인 inverse-link function을 사용할 거다."
   ]
  },
  {
   "cell_type": "markdown",
   "metadata": {},
   "source": [
    "<img src='./figures/table24.1.png'>"
   ]
  },
  {
   "cell_type": "markdown",
   "metadata": {},
   "source": [
    "# 24.1 Poisson Exponential Model"
   ]
  },
  {
   "cell_type": "markdown",
   "metadata": {},
   "source": [
    "http://www.stat.washington.edu/fritz/DATAFILES/constraints.pdf"
   ]
  },
  {
   "cell_type": "markdown",
   "metadata": {},
   "source": [
    "* 이장을 뽀아쏭 지수 연산으로 설명하는 모델을 참조할거다.\n",
    "* 왜서냐면 노이즈 분포는 뽀아쏭 분포이고 inverse-link function은 exponential이기 때문이지\n",
    "* 우리의 모델은 데이터를 기술하기 위해 사용되기 떄문에 모델을 유발하는 최고의 방법은 기술하고자하는 실제 데이터 집합과 어우르는 것이다. (P25)"
   ]
  },
  {
   "cell_type": "markdown",
   "metadata": {},
   "source": [
    "## 24.1.1 Data structure"
   ]
  },
  {
   "cell_type": "markdown",
   "metadata": {},
   "source": [
    "* 표 24.1은 머리색과 눈색의 셈을 보여 준다.\n",
    "* 표 4.1과 같은데 셈과 율만이 차이가 난다.\n",
    "* 표의 칸에 셈을 예측할 거고 예측자는 명목 척도의 변수다.\n",
    "* 이런 구조는 2인자 ANOVA와 동일하다."
   ]
  },
  {
   "cell_type": "markdown",
   "metadata": {},
   "source": [
    "* 이런 데이터를 보면 우리는 많은 의문을 갖는다.\n",
    "* 예측자가 궁금할 수 있다\n",
    "* \"갈색눈이 황갈색눈보다 얼마나 많은가?\", \"검은 머리는 노란머리보다 얼마나 많은가?\"\n",
    "* 이런 질문은 ANOVA의 주효과다.\n",
    "* 허나 우리의 관심사는 변수간에 관계이기에 결합 셈을 출력할 거다.\n",
    "* 하나의 예측자를 교차한 셈 분포가 다른 예측자의 수준에 의존적인지 알고 싶을게다.\n",
    "* 예를 들면 머리색의 분포가 눈색에 의존적인가? 노란 머리 비율이 갈색눈의 사람과 같은가? 등등\n",
    "* 딱 ANOVA다."
   ]
  },
  {
   "cell_type": "markdown",
   "metadata": {},
   "source": [
    "## 24.1.2 Exponential link function"
   ]
  },
  {
   "cell_type": "markdown",
   "metadata": {},
   "source": [
    "* 이런 두가지 방법에서 모델은 만들어진다."
   ]
  },
  {
   "cell_type": "markdown",
   "metadata": {},
   "source": [
    "* 하나는 2인자 ANOVA이고 예측된 값을 셈한 데이터에 연결하는 방법을 찾는다.\n",
    "* ANOVA에서 예측된 mu는 음수에서 양수의 무한데로 나올 수 있으나 빈도는 음수가 아니다.\n",
    "* 그래서 음수가 아닌 ANOVA 예측을 변환해야 한다. 수학적으로 지수변환하는 방법이 있겠지!\n",
    "* 지수변환은 연속변수로 변환하지 이산변수로 변환되지는 않는다.\n",
    "* 이런경우 아주 자연스러운 후보가 뽀아쏭이다. 야는 음이 아닌 람다를 취해서 영에서 무한대까지 정수의 확률을 제공한다."
   ]
  },
  {
   "cell_type": "markdown",
   "metadata": {},
   "source": [
    "* 다른 유도는 칸의 셈을 칸의 확률로 취급하고 두개의 명목 변수가 칸의 확률에 독립적으로 기여하는지 묻는다.\n",
    "* 머리와 눈 색이 독립이라면 결합 확률은 마지널 확률의 곱과 일치할거이다.\n",
    "* 또 표의 모든 칸에서 똑같이 유도된다면 머리와 눈색의 속성은 독립니다. (p92의 독립의 정의를 회상하라)\n",
    "* 머리와 눈색의 독립은 검은 머리에 갈색 눈을 가진 비율은 검은 머리에 파란 눈을 가진 사람과 같은 비율이고 모든 머리와 눈색에도 동일하다."
   ]
  },
  {
   "cell_type": "markdown",
   "metadata": {},
   "source": [
    "* 속성의 독립을 확인하기 위해서 속성의 마지널 확률을 추정할 필요가 있다.\n",
    "* 아래 식을 보자. multiplicative를 additive로 변환하기 위해 log를 취하고 다시 exp를 취한다."
   ]
  },
  {
   "cell_type": "markdown",
   "metadata": {},
   "source": [
    "<img src='./figures/equation24.1-.png'>"
   ]
  },
  {
   "cell_type": "markdown",
   "metadata": {},
   "source": [
    "<img src='./figures/equation24.1.png'>"
   ]
  },
  {
   "cell_type": "markdown",
   "metadata": {},
   "source": [
    "* 식24.2는 interaction을 포함한 경우이다.\n",
    "* 모든 row가 동등한 비율인 10, 100, 1임을 주목하자. 이는 행과 열이 독립이란 뜻이다.\n",
    "* ANOVA에서 (baseline, deflection개념!)\n",
    " * 베타0는 결과의 전체 중심성향을 나타내는 베이스라인이 된다.\n",
    " * 베타r은 r번째 행의 베이스라인에서 얼마나 치우쳤는지를 나타내고\n",
    " * 베타c는 c번째 열의 베이스라인에서 얼마나 치우쳤는지를 나타낸다.\n",
    "* p584에 식 20.2에서 요구하듯이 deflection은 sum to zero의 제약이 있다)"
   ]
  },
  {
   "cell_type": "markdown",
   "metadata": {},
   "source": [
    "* ANOVA에서 칸 평균은 행과 열 효과의 가산 조합으로 나오지 않을 때 상호작용(Interaction) 항을 넣는다.\n",
    "* 말하자면 베타rc지\n",
    "* 모든 행과 열에서 상호작용인 베타rc도 합이 영이여야하지.\n",
    "* 요약하자면 아래 식 24.2와 표 24.2라고 봐야지."
   ]
  },
  {
   "cell_type": "markdown",
   "metadata": {},
   "source": [
    "<img src='./figures/equation24.2.png'>"
   ]
  },
  {
   "cell_type": "markdown",
   "metadata": {},
   "source": [
    "<img src='./figures/table24.2.png'>"
   ]
  },
  {
   "cell_type": "markdown",
   "metadata": {},
   "source": [
    "* 연구자가 독립 위배에 관심있다면 베타rc의 크기와 의미있는 상호작용 대비만 따지면 된다.\n",
    "* 종속성이 올라가는 위치에서 더 상세하게 결정하기 위해서라도 특정 상호작용 대비가 검사되기 때문에 모델은 이런 목적에서는 딱이다."
   ]
  },
  {
   "cell_type": "markdown",
   "metadata": {},
   "source": [
    "## 24.1.3 Poisson noise distribution"
   ]
  },
  {
   "cell_type": "markdown",
   "metadata": {},
   "source": [
    "* 람다rc 값은 중심성향이라 se마다 예측된 셈이 아니다.\n",
    "* 특히 람다rc 값은 음이 아닌 실수이나 셈은 단지 정수만 가능하다.\n",
    "* 우리에게 필요한 것은 람다rc의 파라미터를 있음직한 셈의 확률로 매핑하는 가능도 함수다.\n",
    "* 뽀아쏭 분포는 프랑스의 수학자 Simon-Denis Poisson이 만들었다."
   ]
  },
  {
   "cell_type": "markdown",
   "metadata": {},
   "source": [
    "<img src='./figures/equation24.3.png'>"
   ]
  },
  {
   "cell_type": "markdown",
   "metadata": {},
   "source": [
    "* 뽀아쏭의 확률변수는 음이아닌 정수다. (이걸 어떻게 읽지?)\n",
    "* 람다는 음이 아닌 실수다.\n",
    "* 뽀아쏭 분포의 평균과 분산은 모두 람다다. (이게 의미하는 건 뭘까요?)\n",
    "* 뽀아쏭은 음이 아닌 정수값을 질량으로 갖는 이산 분포다.\n",
    "* 고로 뽀아쏭의 가시적인 평균은 람다가 된다.\n",
    "* 람다가 커지면 분포의 폭도 따라 증가한다."
   ]
  },
  {
   "cell_type": "markdown",
   "metadata": {},
   "source": [
    "* 뽀아쏭 분포는 매순간 발생률이 동일한 경우 시간에 따라 발생하는 이산 셈을 모델링할 때 사용된다.\n",
    "* 예를 들어 편의점에 시간당 35명이 방문했다. 이는 람다가 35인 뽀아쏭 분포다.\n",
    "* 1970년대 초 델라웨어 대학에 학생중 11.2%는 검은 머리에 갈색 문을 가졌다.\n",
    " * 학기당 600명의 학생이 수학하고 있었다고 가정하면 67.2(=11.2% * 600)이 된다.\n",
    " * 뽀아쏭 분포는 p(x|람다=67.2)이다."
   ]
  },
  {
   "cell_type": "markdown",
   "metadata": {},
   "source": [
    "* 우리는 람다rc가 주어졌을 때, 관측되는 확률변수rc의 확률을 모델링하기 위해 뽀아쏭 분포를 가능도 함수로 사용한테다."
   ]
  },
  {
   "cell_type": "markdown",
   "metadata": {},
   "source": [
    "<img src='./figures/figure24.1.png'>"
   ]
  },
  {
   "cell_type": "markdown",
   "metadata": {},
   "source": [
    "## 24.1.4 The complete model and implementation in JAGS"
   ]
  },
  {
   "cell_type": "markdown",
   "metadata": {},
   "source": [
    "* 요약하자면 앞의 논의는 칸의 셈의 예측 성향이 식 24.2에서 주어지고 관측된 칸의 셈 확률이 뽀아쏭 분포로 주어진다는 말이다.\n",
    "* 이제 해야 할 건 파라미터에 대해서 사전 분포를 제시하는 거다.\n",
    "* 운좋게도 우리는 이미 2인자 ANOVA를 위한 사전 분포를 가지고 있다. (p588)\n",
    "* 수학적 표현은 신규 지수 역 링크 함수 (new exponential inverse link function)만 빼면 그림 24.2의 중간에 있다."
   ]
  },
  {
   "cell_type": "markdown",
   "metadata": {},
   "source": [
    "<img src='./figures/figure24.2.png'>"
   ]
  },
  {
   "cell_type": "markdown",
   "metadata": {},
   "source": [
    "* 그림 24.2의 모델은 2인자 ANOVA를 위한 모델로 JAGS에서 variation으로 구현되어 있다.\n",
    "* sum-to-zero 제약은 MCMC에서 찾은 벗어남 파라미터를 재중심잡아서 내포한다.\n",
    "* MCMC에서 직접 샘플링된 벗어남 파라미터는 a1, a2, a1a2로 칭하고\n",
    "* sum-to-zero 버전은 b1, b2, b1b2로 칭한다."
   ]
  },
  {
   "cell_type": "code",
   "execution_count": 16,
   "metadata": {
    "collapsed": false
   },
   "outputs": [
    {
     "ename": "ERROR",
     "evalue": "Error in parse(text = x, srcfile = src): <text>:1:7: unexpected '{'\n1: model {\n          ^\n",
     "output_type": "error",
     "traceback": [
      "Error in parse(text = x, srcfile = src): <text>:1:7: unexpected '{'\n1: model {\n          ^\n"
     ]
    }
   ],
   "source": [
    "model {\n",
    "    for ( i in 1:Ncell ) {\n",
    "        y[i] ~ dpois( lambda[i] )\n",
    "        lambda[i] <- exp( a0 + a1[x1[i]] + a2[x2[i]] + a1a2[x1[i],x2[i]] )\n",
    "    }\n",
    "    a0 ~ dnorm( yLogMean , 1/(yLogSD*2)^2 ) \n",
    "    for ( j1 in 1:Nx1Lvl ) { a1[j1] ~ dnorm( 0.0 , 1/a1SD^2 ) }\n",
    "    a1SD ~ dgamma(agammaShRa[1],agammaShRa[2]) \n",
    "    for ( j2 in 1:Nx2Lvl ) { a2[j2] ~ dnorm( 0.0 , 1/a2SD^2 ) }\n",
    "    a2SD ~ dgamma(agammaShRa[1],agammaShRa[2]) \n",
    "    for ( j1 in 1:Nx1Lvl ) { \n",
    "        for ( j2 in 1:Nx2Lvl ) {\n",
    "            a1a2[j1,j2] ~ dnorm( 0.0 , 1/a1a2SD^2 )\n",
    "        }\n",
    "    }\n",
    "    a1a2SD ~ dgamma(agammaShRa[1],agammaShRa[2]) \n",
    "    # Convert a0,a1[],a2[],a1a2[,] to sum-to-zero b0,b1[],b2[],b1b2[,] :\n",
    "    for ( j1 in 1:Nx1Lvl ) {\n",
    "        for ( j2 in 1:Nx2Lvl ){\n",
    "            m[j1,j2] <- a0 + a1[j1] + a2[j2] + a1a2[j1,j2] # cell means \n",
    "    \n",
    "        }\n",
    "    }\n",
    "    b0 <- mean( m[1:Nx1Lvl,1:Nx2Lvl] )\n",
    "    for ( j1 in 1:Nx1Lvl ) { b1[j1] <- mean( m[j1,1:Nx2Lvl] ) - b0 }\n",
    "    for ( j2 in 1:Nx2Lvl ) { b2[j2] <- mean( m[1:Nx1Lvl,j2] ) - b0 }\n",
    "    for ( j1 in 1:Nx1Lvl ) {\n",
    "        for ( j2 in 1:Nx2Lvl ) {\n",
    "            b1b2[j1,j2] <- m[j1,j2] - ( b0 + b1[j1] + b2[j2] )  \n",
    "    \n",
    "        }\n",
    "    }    \n",
    "    # Compute predicted proportions:\n",
    "    for ( j1 in 1:Nx1Lvl ) {\n",
    "        for ( j2 in 1:Nx2Lvl ) {\n",
    "            expm[j1,j2] <- exp(m[j1,j2])\n",
    "            ppx1x2p[j1,j2] <- expm[j1,j2]/sum(expm[1:Nx1Lvl,1:Nx2Lvl])\n",
    "    \n",
    "        }\n",
    "    }\n",
    "    for ( j1 in 1:Nx1Lvl ) { ppx1p[j1] <- sum(ppx1x2p[j1,1:Nx2Lvl]) }\n",
    "    for ( j2 in 1:Nx2Lvl ) { ppx2p[j2] <- sum(ppx1x2p[1:Nx1Lvl,j2]) }\n",
    "}"
   ]
  },
  {
   "cell_type": "markdown",
   "metadata": {},
   "source": [
    "# 24.2 Example: Hair Eye Go Again"
   ]
  },
  {
   "cell_type": "markdown",
   "metadata": {},
   "source": [
    "* 자 이제, 머리와 눈색을 돌리는 분석이다.\n",
    "* 예측된 칸의 비율의 사후 분포는 그림 24.3이다.\n",
    "* 그림의 위는 표 24.1의 각 칸이다.\n",
    "* 자료 비율은 수평축의 작은 삼각형으로 표시되었다.\n",
    "* 이경우 자료 비율은 각 칸의 95% HDI의 중앙에 박힌다.\n",
    "* 베이지안 분석에 있어 좋은 피처는 명시적인 사후 분포 예측의 불확실성이다.\n",
    "* 속성들의 독립성에 관심이 있으면 독립성 결여는 상호작용의 벗어남에서 확인된다.\n",
    "* 관심사가 상호작용 대비라면 \n",
    " * 독립성이 벗어남 파리미터의 비에 대한 율을 참조한다는 걸 확인하는 건 중요하다.\n",
    " * 다른 말로 바꿔보면 비율의 상호작용의 대비를 고려하는 건 별 의미가 없다.\n",
    " * 대신 벗어남 파라미터의 상호작용 대비를 구려한다.\n",
    "* 검은 머리 중에 파란눈과 갈색눈에 대해서 노란 머리 중에 파란눈과 갈색눈에 대한 상호작용 대비에 관심이 있다고 치자.\n",
    "* 그림 24.3의 아래 쪽에는 상호작용의 벗어남 파라미터에 대응하는 차이를 보여준다.\n",
    "* 좌측 아래는 음수임을 확인할 수 있는 검은 머리에 파란 눈과 갈색 눈의 차이이다.\n",
    " * 이는 검은 머리에게 갈색 눈의 상호작용 벗어남은 파란 눈의 상호작용 벗어남 보다 크단 얘기다.\n",
    " * 갈색 눈과 검은머리의 조합이 지배적이라는 걸 아는 범위에서는 직관적이다.\n",
    "* 중앙 아래는 양수임을 확인 할 수 있는 노란 머리에 대해서 파란 눈과 갈색 눈의 차이이다.\n",
    " * 파란 눈과 노란 머리는 어울림을 직관적으로 알 수 있다.\n",
    "* 우측 아래는 영이 아닌 감이 강한 상호작용 대비를 보여 준다.\n",
    "* 영이 아닌 상호작용 대비는 속성이 독립이 아님을 시사한다."
   ]
  },
  {
   "cell_type": "markdown",
   "metadata": {},
   "source": [
    "<img src='./figures/figure24.3.png'>"
   ]
  },
  {
   "cell_type": "markdown",
   "metadata": {},
   "source": [
    "* 차이의 사후 분포는 ROPE와 보여진다.\n",
    "* 상호작용 벗어남 파라미터를 위해 ROPE를 명시할 때, 파라미터는 셈의 로그연산의 범위에 있다는 걸 기억하는게 중요하다.\n",
    "* 그래서 0.1의 차이가 셈에서는 10%의 변화로 나타난다.\n",
    "* 이경우 ROPE는 임의로 선택되었다."
   ]
  },
  {
   "cell_type": "markdown",
   "metadata": {},
   "source": [
    "# 24.3 Example: Interaction Contrasts, Shrinkage, and Omnibus Test"
   ]
  },
  {
   "cell_type": "markdown",
   "metadata": {},
   "source": [
    "* 이전에는 머리색과 눈색의 가상 자료로 했다면 이 섹터에서 A1~A4, B1~B4의 레이블이 붙은 데이터로 할 거다.\n",
    "* 4분면으로 나뉘었을 때 좌상과 우하는 22개 셈이 나오고 우상과 좌하는 11개의 셈이 나온다.\n",
    "* 이 자료 형태는 속성간 상호작용이 없어 보인다. 즉, 속성은 독립적이다."
   ]
  },
  {
   "cell_type": "markdown",
   "metadata": {},
   "source": [
    "* 이전장의 JAGS프로그램으로 돌려보면 그림 24.4의 사후 분포를 얻을 수 있는데\n",
    "* 동일한 셈의 칸은 MCMC 체인에서 임의성에 의한 변동만 있는 거의 동일한 사후 분포를 갖는 것으로 나온다.\n",
    "* 예측된 칸의 비율의 축소를 목격할 수 있다.\n",
    "* 높은 셈 칸의 모달 예측 비율은 데이터 비율에서 보다 다소 작고\n",
    "* 낮은 셈 칸의 모달 예측 비율은 데이터 비율에서 보다 다소 높다\n",
    "* 연습 24.2는 이런 수축과 원인을 평가할 것이다.\n",
    "* 특히 사전 분포에 대한 구조적 가정을 변하한다면 확 줄어 드는 걸 발견할 수 있다."
   ]
  },
  {
   "cell_type": "markdown",
   "metadata": {},
   "source": [
    "* 독립성의 확연한 결여를 평가하기 위해서 상호작용의 대비를 실시한다.\n",
    "* 개연성있는 상호작용 대비는 중앙의 4개 칸을 포함한다. < A2,B2 >, < A2,B3 >, < A3,B2 >, < A3,B3 >\n",
    "* 상호작용 대비는 A2와 A3 사이에 차이가 B2와 B3 사이에 차이와 같은지 묻는다.\n",
    "* 결과는 그림 24.4 상에 좌하에 위치한다. 상호작용 대비의 크기가 0은 아니지만 95% HDI이 0에 근접해 있다.\n",
    "* 이것이 충분히 강한 상호작용을 보인다는 의미이고 속성이 독립이라고 할 수 있나?\n",
    " * 다른 상호작용 대비가 있기 때문에 답은 \"아니다\" 이다.\n",
    "* 특히 각 분면마다 4개의 칸의 평균을 구하여 사분면을 비교하고 상호작용 대비를 고래해 보자.\n",
    "* 결과는 그림의 우측 하단에 있다.상호작용 대비가 0이 아님이 명확하다."
   ]
  },
  {
   "cell_type": "markdown",
   "metadata": {},
   "source": [
    "<img src='./figures/figure24.4.png'>"
   ]
  },
  {
   "cell_type": "markdown",
   "metadata": {},
   "source": [
    "* 여기서 모델은 상호작용의 옴니버스 검증을 수행할 방법이 없음을 보여 준다.\n",
    "* 허나 ANOVA 스따일의 모델과 같이 모델을 확장하는 건 쉽다.\n",
    "* 그리하야 상호작용 벗어남에서 함유 계수를 갖게 된다.\n",
    "* 함유 계수는 0에서 1 사이의 값을 갖고 베르누이 사전 분포로 설정된다.\n",
    "* 이런 확장 모델은 원칙적으로는 좋으나 \n",
    "* 실무에서 MCMC 체인은 강한 자기 상관을 보일 수 있고\n",
    "* pseudo-사전 분포가 유용할 수도 있다. (p279)\n",
    "* 또한 함유 계수가 1일때 체인에서 그 스텝은 조심스레 걸러지고 \n",
    "* 함유 계수가 0일때 체인에서 그 스템은 분리되어 평가된다.\n",
    "* 함유 계수가 1일 정도로 높은 사후 분포 확률이 있을 때 조차도 여전히 데이터에 상호작용이 잔존하는지 결정하기 위해서 상세한 상호작용 대비를 고려해야 한다."
   ]
  },
  {
   "cell_type": "markdown",
   "metadata": {},
   "source": [
    "* 이런류의 데이터에 독립성을 검증하는 전통적인 NHST 옴니버스 테스트는 까이스꿰어다.\n",
    "* 이미 까이스꿰어와 친근한 독자는 결과를 까이스꿰어 결과를 베이지안 상호작용 대비와 비교할 수 있다."
   ]
  },
  {
   "cell_type": "markdown",
   "metadata": {},
   "source": [
    "# 24.4 Log-Linear Models for Contingency Tables"
   ]
  },
  {
   "cell_type": "markdown",
   "metadata": {},
   "source": [
    "* 이장은 단지 명목 예측자에서 셈 자료를 분석하는 방법의 표면만 훑었다.\n",
    "* 이런 류의 데이터는 자주 표로 나타내고 각 칸에서 셈은 명목 예측자의 수준에 의존한다고 본다.\n",
    "* 그리하야 데이터는 \"분할표\"로 일컫다.\n",
    "* 2개 이상의 예측자가 있을 수 있고 모델은 ANOVA에서와 동일하게 생성가능하다.\n",
    "* 여기서 제시된 공식은 \"람다=exp(베타0+베타r+베타c+베타rc)\"로 표현되는 inverse-link를 강조한다.\n",
    "* 허나 이 식은 \"log(람다)=베타0+베타r+베타c+베타rc\"로 다시 쓸 수 있다.\n",
    "* 후자는 이 모델을 위한 일반의 이름을 갖는다: **log-linear models for contingency tables**\n",
    "* 이런 모델을 깊이 있게 다룰 때 사용되는 용어다.\n",
    "* Agresti & Hitchcock(2005)에 Bayesian log-linear models for contingency tables를 제시했다.\n",
    "* 하지만 이장에서 사용된 방법들은 요넘들을 사용하지 않았다. \n",
    "* 왜서냐면 계층적 ANOVA 모델이 나중에 보편화되었기 때문이다. (Gelman 2005,2006) \n",
    "* 이장에서 제사한 방법과 같은 모델의 분할표에 따른 베이지안 추론을 위해서는 겔만의 책을 봐라."
   ]
  },
  {
   "cell_type": "markdown",
   "metadata": {},
   "source": [
    "# 24.5 Exercises"
   ]
  },
  {
   "cell_type": "markdown",
   "metadata": {},
   "source": [
    "* https://sites.google.com/site/doingbayesiandataanalysis/ 에서 더 많은 연습 문제를 찾아 봐라."
   ]
  },
  {
   "cell_type": "markdown",
   "metadata": {},
   "source": [
    "### Exercises 24.1. [Purpose: Trying the analysis on another data set.]"
   ]
  },
  {
   "cell_type": "markdown",
   "metadata": {},
   "source": [
    "#### A) 1974년에 데이터가 2가지 속성을 갖는 범죄 셈을 보고했다\"\n",
    "* 범죄자가 범한 범죄의 유형이 알콜과 관련이 있는가를 보는 연구이다.\n",
    "* CrimeDrink.csv로 설정된 Jags-Ycount-Xnom2fac- MpoissonExp-Example.R를 돌려라."
   ]
  },
  {
   "cell_type": "markdown",
   "metadata": {},
   "source": [
    "#### B) 음주자가 범하는 범죄의 비율에 대한 사후 분포는 어떤 것인가?\n",
    "* 비음주자보다 음주자가 저지르는 범죄가 더 많다고 할 만큼 신용적으로 충분히 정밀한가?"
   ]
  },
  {
   "cell_type": "markdown",
   "metadata": {},
   "source": [
    "#### C) 사기의 범죄 비율과 폭행의 범죄 비율에 대한 사후 분포는 어떤것인가?\n",
    "* 이 비율들이 신용적으로 충분히 다르다고 할 수 있을 만큼 정밀한가?"
   ]
  },
  {
   "cell_type": "markdown",
   "metadata": {},
   "source": [
    "#### D) 사기와 폭력 에 대해 음주자와 비음주자 간에 상호작용 대비를 수행해라."
   ]
  },
  {
   "cell_type": "markdown",
   "metadata": {},
   "source": [
    "<img src='./figures/figure24.5.png'>"
   ]
  },
  {
   "cell_type": "markdown",
   "metadata": {},
   "source": [
    "### Exercises 24.2. [Purpose: Exploring shrinkage of interaction contrasts.]"
   ]
  },
  {
   "cell_type": "markdown",
   "metadata": {},
   "source": [
    "#### A) FourByFourCount.csv로 설정된 Jags-Ycount-Xnom2fac-MpoissonExp-Example.R을 돌려보자.\n",
    "* 칸 비율의 수축과 상호작용 대비에 깔때기 형의 사후 분포에 주목하라."
   ]
  },
  {
   "cell_type": "markdown",
   "metadata": {},
   "source": [
    "#### B) Jags-Ycount-Xnom2fac-Mpoisson Exp.R에서 \n",
    "* 요걸: a1a2SD  ̃ dgamma(agammaShRa[1],agammaShRa[2])\n",
    "* 요렇게: a1a2SD <- yLogSD\n",
    "* 바꾸고 Jags-Ycount-Xnom2fac-Mpoisson Exp.R를 돌려라.\n",
    "* 이전 파트에 있었던 상호작용 대비의 수축이 사라짐에 주목하라."
   ]
  },
  {
   "cell_type": "markdown",
   "metadata": {},
   "source": [
    "#### C) 이전 장의 결과에 연속하여, 모달 칸의 비율이 샘플 비율보다 작음에 주목하라.\n",
    "* 모드가 자료 비율보다 작음에도 불구하고 칸 비율의 사후 분포는 체인의 모든단계에서 합이 1.0이다."
   ]
  },
  {
   "cell_type": "code",
   "execution_count": null,
   "metadata": {
    "collapsed": true
   },
   "outputs": [],
   "source": [
    "mcmcMat = as.matrix(mcmcCoda)\n",
    "round(rowSums( mcmcMat[ , grep(\"ppx1x2p\",colnames(mcmcMat)) ] ) ,5)"
   ]
  },
  {
   "cell_type": "markdown",
   "metadata": {},
   "source": [
    "* R 코드가 뭘하는지 설명해 봐라.\n",
    "* 사후 분포의 치우침에 마지널라이즈 떔에 모드는 샘플 비율 보다 작다."
   ]
  },
  {
   "cell_type": "markdown",
   "metadata": {},
   "source": [
    "<img src='./figures/figure24.6.png'>"
   ]
  },
  {
   "cell_type": "markdown",
   "metadata": {},
   "source": [
    "### Exercises 24.3. [Purpose: Compare results of NHST chi-square test to results of Bayesian approach.]"
   ]
  },
  {
   "cell_type": "markdown",
   "metadata": {},
   "source": [
    "* 실습에서 이미 NHST 까이스꿰어 검증과 친숙할 거다.\n",
    "* 또한 reshape2 패키지도 설치했겠지.\n",
    "* 남은 실습을 하기 전에 reshape2를 불러 들여라."
   ]
  },
  {
   "cell_type": "code",
   "execution_count": 20,
   "metadata": {
    "collapsed": true
   },
   "outputs": [],
   "source": [
    "library(reshape2)"
   ]
  },
  {
   "cell_type": "markdown",
   "metadata": {},
   "source": [
    "#### A) 머리색, 눈색 정보에 전통적인 까이스꿰어 검증을 해 보자."
   ]
  },
  {
   "cell_type": "code",
   "execution_count": 44,
   "metadata": {
    "collapsed": false,
    "scrolled": false
   },
   "outputs": [
    {
     "data": {
      "text/html": [
       "<table>\n",
       "<thead><tr><th></th><th scope=col>Black</th><th scope=col>Blond</th><th scope=col>Brown</th><th scope=col>Red</th></tr></thead>\n",
       "<tbody>\n",
       "\t<tr><th scope=row>Blue</th><td>20</td><td>94</td><td>84</td><td>17</td></tr>\n",
       "\t<tr><th scope=row>Brown</th><td> 68</td><td>  7</td><td>119</td><td> 26</td></tr>\n",
       "\t<tr><th scope=row>Green</th><td> 5</td><td>16</td><td>29</td><td>14</td></tr>\n",
       "\t<tr><th scope=row>Hazel</th><td>15</td><td>10</td><td>54</td><td>14</td></tr>\n",
       "</tbody>\n",
       "</table>\n"
      ],
      "text/latex": [
       "\\begin{tabular}{r|llll}\n",
       "  & Black & Blond & Brown & Red\\\\\n",
       "\\hline\n",
       "\tBlue & 20 & 94 & 84 & 17\\\\\n",
       "\tBrown &  68 &   7 & 119 &  26\\\\\n",
       "\tGreen &  5 & 16 & 29 & 14\\\\\n",
       "\tHazel & 15 & 10 & 54 & 14\\\\\n",
       "\\end{tabular}\n"
      ],
      "text/markdown": [
       "1. 20\n",
       "2. 68\n",
       "3. 5\n",
       "4. 15\n",
       "5. 94\n",
       "6. 7\n",
       "7. 16\n",
       "8. 10\n",
       "9. 84\n",
       "10. 119\n",
       "11. 29\n",
       "12. 54\n",
       "13. 17\n",
       "14. 26\n",
       "15. 14\n",
       "16. 14\n",
       "\n",
       "\n"
      ],
      "text/plain": [
       "      Black Blond Brown Red\n",
       "Blue     20    94    84  17\n",
       "Brown    68     7   119  26\n",
       "Green     5    16    29  14\n",
       "Hazel    15    10    54  14"
      ]
     },
     "execution_count": 44,
     "metadata": {},
     "output_type": "execute_result"
    },
    {
     "data": {
      "text/html": [
       "<table>\n",
       "<thead><tr><th></th><th scope=col>Black</th><th scope=col>Blond</th><th scope=col>Brown</th><th scope=col>Red</th></tr></thead>\n",
       "<tbody>\n",
       "\t<tr><th scope=row>Blue</th><td> 39.22</td><td> 46.12</td><td>103.87</td><td> 25.79</td></tr>\n",
       "\t<tr><th scope=row>Brown</th><td> 40.14</td><td> 47.20</td><td>106.28</td><td> 26.39</td></tr>\n",
       "\t<tr><th scope=row>Green</th><td>11.68</td><td>13.73</td><td>30.92</td><td> 7.68</td></tr>\n",
       "\t<tr><th scope=row>Hazel</th><td>16.97</td><td>19.95</td><td>44.93</td><td>11.15</td></tr>\n",
       "</tbody>\n",
       "</table>\n"
      ],
      "text/latex": [
       "\\begin{tabular}{r|llll}\n",
       "  & Black & Blond & Brown & Red\\\\\n",
       "\\hline\n",
       "\tBlue &  39.22 &  46.12 & 103.87 &  25.79\\\\\n",
       "\tBrown &  40.14 &  47.20 & 106.28 &  26.39\\\\\n",
       "\tGreen & 11.68 & 13.73 & 30.92 &  7.68\\\\\n",
       "\tHazel & 16.97 & 19.95 & 44.93 & 11.15\\\\\n",
       "\\end{tabular}\n"
      ],
      "text/markdown": [
       "1. 39.22\n",
       "2. 40.14\n",
       "3. 11.68\n",
       "4. 16.97\n",
       "5. 46.12\n",
       "6. 47.2\n",
       "7. 13.73\n",
       "8. 19.95\n",
       "9. 103.87\n",
       "10. 106.28\n",
       "11. 30.92\n",
       "12. 44.93\n",
       "13. 25.79\n",
       "14. 26.39\n",
       "15. 7.68\n",
       "16. 11.15\n",
       "\n",
       "\n"
      ],
      "text/plain": [
       "      Black Blond  Brown   Red\n",
       "Blue  39.22 46.12 103.87 25.79\n",
       "Brown 40.14 47.20 106.28 26.39\n",
       "Green 11.68 13.73  30.92  7.68\n",
       "Hazel 16.97 19.95  44.93 11.15"
      ]
     },
     "execution_count": 44,
     "metadata": {},
     "output_type": "execute_result"
    },
    {
     "data": {
      "text/html": [
       "<table>\n",
       "<thead><tr><th></th><th scope=col>Black</th><th scope=col>Blond</th><th scope=col>Brown</th><th scope=col>Red</th></tr></thead>\n",
       "<tbody>\n",
       "\t<tr><th scope=row>Blue</th><td>-3.07</td><td> 7.05</td><td>-1.95</td><td>-1.73</td></tr>\n",
       "\t<tr><th scope=row>Brown</th><td> 4.40</td><td>-5.85</td><td> 1.23</td><td>-0.07</td></tr>\n",
       "\t<tr><th scope=row>Green</th><td>-1.95</td><td> 0.61</td><td>-0.35</td><td> 2.28</td></tr>\n",
       "\t<tr><th scope=row>Hazel</th><td>-0.48</td><td>-2.23</td><td> 1.35</td><td> 0.85</td></tr>\n",
       "</tbody>\n",
       "</table>\n"
      ],
      "text/latex": [
       "\\begin{tabular}{r|llll}\n",
       "  & Black & Blond & Brown & Red\\\\\n",
       "\\hline\n",
       "\tBlue & -3.07 &  7.05 & -1.95 & -1.73\\\\\n",
       "\tBrown &  4.40 & -5.85 &  1.23 & -0.07\\\\\n",
       "\tGreen & -1.95 &  0.61 & -0.35 &  2.28\\\\\n",
       "\tHazel & -0.48 & -2.23 &  1.35 &  0.85\\\\\n",
       "\\end{tabular}\n"
      ],
      "text/markdown": [
       "1. -3.07\n",
       "2. 4.4\n",
       "3. -1.95\n",
       "4. -0.48\n",
       "5. 7.05\n",
       "6. -5.85\n",
       "7. 0.61\n",
       "8. -2.23\n",
       "9. -1.95\n",
       "10. 1.23\n",
       "11. -0.35\n",
       "12. 1.35\n",
       "13. -1.73\n",
       "14. -0.07\n",
       "15. 2.28\n",
       "16. 0.85\n",
       "\n",
       "\n"
      ],
      "text/plain": [
       "      Black Blond Brown   Red\n",
       "Blue  -3.07  7.05 -1.95 -1.73\n",
       "Brown  4.40 -5.85  1.23 -0.07\n",
       "Green -1.95  0.61 -0.35  2.28\n",
       "Hazel -0.48 -2.23  1.35  0.85"
      ]
     },
     "execution_count": 44,
     "metadata": {},
     "output_type": "execute_result"
    },
    {
     "data": {
      "text/plain": [
       "\n",
       "\tPearson's Chi-squared test\n",
       "\n",
       "data:  myMat\n",
       "X-squared = 138.29, df = 9, p-value < 2.2e-16\n"
      ]
     },
     "execution_count": 44,
     "metadata": {},
     "output_type": "execute_result"
    }
   ],
   "source": [
    "myDF = read.csv( file=\"../DBDA2Eprograms/HairEyeColor.csv\" )\n",
    "myMat = acast(myDF, Eye ~ Hair, value.var=\"Count\" )\n",
    "Xsq = chisq.test(myMat)\n",
    "Xsq$observed\n",
    "round(Xsq$expected,2)\n",
    "round(Xsq$residuals,2)\n",
    "Xsq"
   ]
  },
  {
   "cell_type": "markdown",
   "metadata": {},
   "source": [
    "* 줄마다 설명해라.\n",
    "* 정확히 우리가 이 옴니버스 검증에서 내린 결론이 뭔가?\n",
    "* \"유의한\" 결론을 책임질 하위 칸을 알겠는가?\n",
    "* 어떻게 찾아낼 것인가?\n",
    "* 옴니버스 검증이 우리에게 많은 걸 얘기해 주고 있는가?"
   ]
  },
  {
   "cell_type": "markdown",
   "metadata": {},
   "source": [
    "#### B) 전통적인 까이스꿰어 검증을 그림 24.4와 그림 24.6에도 해 보자.\n",
    "* countMult=11 , countMult=7 , and countMult=3를 사용해서 다음 코드 줄을 3번 돌려라."
   ]
  },
  {
   "cell_type": "code",
   "execution_count": 32,
   "metadata": {
    "collapsed": false
   },
   "outputs": [
    {
     "data": {
      "text/html": [
       "<table>\n",
       "<thead><tr><th></th><th scope=col>B1</th><th scope=col>B2</th><th scope=col>B3</th><th scope=col>B4</th></tr></thead>\n",
       "<tbody>\n",
       "\t<tr><th scope=row>A1</th><td>22</td><td>22</td><td>11</td><td>11</td></tr>\n",
       "\t<tr><th scope=row>A2</th><td>22</td><td>22</td><td>11</td><td>11</td></tr>\n",
       "\t<tr><th scope=row>A3</th><td>11</td><td>11</td><td>22</td><td>22</td></tr>\n",
       "\t<tr><th scope=row>A4</th><td>11</td><td>11</td><td>22</td><td>22</td></tr>\n",
       "</tbody>\n",
       "</table>\n"
      ],
      "text/latex": [
       "\\begin{tabular}{r|llll}\n",
       "  & B1 & B2 & B3 & B4\\\\\n",
       "\\hline\n",
       "\tA1 & 22 & 22 & 11 & 11\\\\\n",
       "\tA2 & 22 & 22 & 11 & 11\\\\\n",
       "\tA3 & 11 & 11 & 22 & 22\\\\\n",
       "\tA4 & 11 & 11 & 22 & 22\\\\\n",
       "\\end{tabular}\n"
      ],
      "text/markdown": [
       "1. 22\n",
       "2. 22\n",
       "3. 11\n",
       "4. 11\n",
       "5. 22\n",
       "6. 22\n",
       "7. 11\n",
       "8. 11\n",
       "9. 11\n",
       "10. 11\n",
       "11. 22\n",
       "12. 22\n",
       "13. 11\n",
       "14. 11\n",
       "15. 22\n",
       "16. 22\n",
       "\n",
       "\n"
      ],
      "text/plain": [
       "   B1 B2 B3 B4\n",
       "A1 22 22 11 11\n",
       "A2 22 22 11 11\n",
       "A3 11 11 22 22\n",
       "A4 11 11 22 22"
      ]
     },
     "execution_count": 32,
     "metadata": {},
     "output_type": "execute_result"
    },
    {
     "data": {
      "text/html": [
       "<table>\n",
       "<thead><tr><th></th><th scope=col>B1</th><th scope=col>B2</th><th scope=col>B3</th><th scope=col>B4</th></tr></thead>\n",
       "<tbody>\n",
       "\t<tr><th scope=row>A1</th><td>16.5</td><td>16.5</td><td>16.5</td><td>16.5</td></tr>\n",
       "\t<tr><th scope=row>A2</th><td>16.5</td><td>16.5</td><td>16.5</td><td>16.5</td></tr>\n",
       "\t<tr><th scope=row>A3</th><td>16.5</td><td>16.5</td><td>16.5</td><td>16.5</td></tr>\n",
       "\t<tr><th scope=row>A4</th><td>16.5</td><td>16.5</td><td>16.5</td><td>16.5</td></tr>\n",
       "</tbody>\n",
       "</table>\n"
      ],
      "text/latex": [
       "\\begin{tabular}{r|llll}\n",
       "  & B1 & B2 & B3 & B4\\\\\n",
       "\\hline\n",
       "\tA1 & 16.5 & 16.5 & 16.5 & 16.5\\\\\n",
       "\tA2 & 16.5 & 16.5 & 16.5 & 16.5\\\\\n",
       "\tA3 & 16.5 & 16.5 & 16.5 & 16.5\\\\\n",
       "\tA4 & 16.5 & 16.5 & 16.5 & 16.5\\\\\n",
       "\\end{tabular}\n"
      ],
      "text/markdown": [
       "1. 16.5\n",
       "2. 16.5\n",
       "3. 16.5\n",
       "4. 16.5\n",
       "5. 16.5\n",
       "6. 16.5\n",
       "7. 16.5\n",
       "8. 16.5\n",
       "9. 16.5\n",
       "10. 16.5\n",
       "11. 16.5\n",
       "12. 16.5\n",
       "13. 16.5\n",
       "14. 16.5\n",
       "15. 16.5\n",
       "16. 16.5\n",
       "\n",
       "\n"
      ],
      "text/plain": [
       "     B1   B2   B3   B4\n",
       "A1 16.5 16.5 16.5 16.5\n",
       "A2 16.5 16.5 16.5 16.5\n",
       "A3 16.5 16.5 16.5 16.5\n",
       "A4 16.5 16.5 16.5 16.5"
      ]
     },
     "execution_count": 32,
     "metadata": {},
     "output_type": "execute_result"
    },
    {
     "data": {
      "text/html": [
       "<table>\n",
       "<thead><tr><th></th><th scope=col>B1</th><th scope=col>B2</th><th scope=col>B3</th><th scope=col>B4</th></tr></thead>\n",
       "<tbody>\n",
       "\t<tr><th scope=row>A1</th><td> 1.35</td><td> 1.35</td><td>-1.35</td><td>-1.35</td></tr>\n",
       "\t<tr><th scope=row>A2</th><td> 1.35</td><td> 1.35</td><td>-1.35</td><td>-1.35</td></tr>\n",
       "\t<tr><th scope=row>A3</th><td>-1.35</td><td>-1.35</td><td> 1.35</td><td> 1.35</td></tr>\n",
       "\t<tr><th scope=row>A4</th><td>-1.35</td><td>-1.35</td><td> 1.35</td><td> 1.35</td></tr>\n",
       "</tbody>\n",
       "</table>\n"
      ],
      "text/latex": [
       "\\begin{tabular}{r|llll}\n",
       "  & B1 & B2 & B3 & B4\\\\\n",
       "\\hline\n",
       "\tA1 &  1.35 &  1.35 & -1.35 & -1.35\\\\\n",
       "\tA2 &  1.35 &  1.35 & -1.35 & -1.35\\\\\n",
       "\tA3 & -1.35 & -1.35 &  1.35 &  1.35\\\\\n",
       "\tA4 & -1.35 & -1.35 &  1.35 &  1.35\\\\\n",
       "\\end{tabular}\n"
      ],
      "text/markdown": [
       "1. 1.35\n",
       "2. 1.35\n",
       "3. -1.35\n",
       "4. -1.35\n",
       "5. 1.35\n",
       "6. 1.35\n",
       "7. -1.35\n",
       "8. -1.35\n",
       "9. -1.35\n",
       "10. -1.35\n",
       "11. 1.35\n",
       "12. 1.35\n",
       "13. -1.35\n",
       "14. -1.35\n",
       "15. 1.35\n",
       "16. 1.35\n",
       "\n",
       "\n"
      ],
      "text/plain": [
       "      B1    B2    B3    B4\n",
       "A1  1.35  1.35 -1.35 -1.35\n",
       "A2  1.35  1.35 -1.35 -1.35\n",
       "A3 -1.35 -1.35  1.35  1.35\n",
       "A4 -1.35 -1.35  1.35  1.35"
      ]
     },
     "execution_count": 32,
     "metadata": {},
     "output_type": "execute_result"
    },
    {
     "data": {
      "text/plain": [
       "\n",
       "\tPearson's Chi-squared test\n",
       "\n",
       "data:  myMat\n",
       "X-squared = 29.333, df = 9, p-value = 0.0005692\n"
      ]
     },
     "execution_count": 32,
     "metadata": {},
     "output_type": "execute_result"
    }
   ],
   "source": [
    "myDF = read.csv( file=\"../DBDA2Eprograms/FourByFourCount.csv\" )\n",
    "countMult = 11 # try 3, 7, and 11\n",
    "myDF$Count = round( myDF$Count * countMult )\n",
    "myMat = acast( myDF , A ~ B , value.var=\"Count\")\n",
    "Xsq = chisq.test(myMat)\n",
    "Xsq$observed\n",
    "round(Xsq$expected,2)\n",
    "round(Xsq$residuals,2)\n",
    "Xsq"
   ]
  },
  {
   "cell_type": "code",
   "execution_count": 33,
   "metadata": {
    "collapsed": false
   },
   "outputs": [
    {
     "data": {
      "text/html": [
       "<table>\n",
       "<thead><tr><th></th><th scope=col>B1</th><th scope=col>B2</th><th scope=col>B3</th><th scope=col>B4</th></tr></thead>\n",
       "<tbody>\n",
       "\t<tr><th scope=row>A1</th><td>14</td><td>14</td><td> 7</td><td> 7</td></tr>\n",
       "\t<tr><th scope=row>A2</th><td>14</td><td>14</td><td> 7</td><td> 7</td></tr>\n",
       "\t<tr><th scope=row>A3</th><td> 7</td><td> 7</td><td>14</td><td>14</td></tr>\n",
       "\t<tr><th scope=row>A4</th><td> 7</td><td> 7</td><td>14</td><td>14</td></tr>\n",
       "</tbody>\n",
       "</table>\n"
      ],
      "text/latex": [
       "\\begin{tabular}{r|llll}\n",
       "  & B1 & B2 & B3 & B4\\\\\n",
       "\\hline\n",
       "\tA1 & 14 & 14 &  7 &  7\\\\\n",
       "\tA2 & 14 & 14 &  7 &  7\\\\\n",
       "\tA3 &  7 &  7 & 14 & 14\\\\\n",
       "\tA4 &  7 &  7 & 14 & 14\\\\\n",
       "\\end{tabular}\n"
      ],
      "text/markdown": [
       "1. 14\n",
       "2. 14\n",
       "3. 7\n",
       "4. 7\n",
       "5. 14\n",
       "6. 14\n",
       "7. 7\n",
       "8. 7\n",
       "9. 7\n",
       "10. 7\n",
       "11. 14\n",
       "12. 14\n",
       "13. 7\n",
       "14. 7\n",
       "15. 14\n",
       "16. 14\n",
       "\n",
       "\n"
      ],
      "text/plain": [
       "   B1 B2 B3 B4\n",
       "A1 14 14  7  7\n",
       "A2 14 14  7  7\n",
       "A3  7  7 14 14\n",
       "A4  7  7 14 14"
      ]
     },
     "execution_count": 33,
     "metadata": {},
     "output_type": "execute_result"
    },
    {
     "data": {
      "text/html": [
       "<table>\n",
       "<thead><tr><th></th><th scope=col>B1</th><th scope=col>B2</th><th scope=col>B3</th><th scope=col>B4</th></tr></thead>\n",
       "<tbody>\n",
       "\t<tr><th scope=row>A1</th><td>10.5</td><td>10.5</td><td>10.5</td><td>10.5</td></tr>\n",
       "\t<tr><th scope=row>A2</th><td>10.5</td><td>10.5</td><td>10.5</td><td>10.5</td></tr>\n",
       "\t<tr><th scope=row>A3</th><td>10.5</td><td>10.5</td><td>10.5</td><td>10.5</td></tr>\n",
       "\t<tr><th scope=row>A4</th><td>10.5</td><td>10.5</td><td>10.5</td><td>10.5</td></tr>\n",
       "</tbody>\n",
       "</table>\n"
      ],
      "text/latex": [
       "\\begin{tabular}{r|llll}\n",
       "  & B1 & B2 & B3 & B4\\\\\n",
       "\\hline\n",
       "\tA1 & 10.5 & 10.5 & 10.5 & 10.5\\\\\n",
       "\tA2 & 10.5 & 10.5 & 10.5 & 10.5\\\\\n",
       "\tA3 & 10.5 & 10.5 & 10.5 & 10.5\\\\\n",
       "\tA4 & 10.5 & 10.5 & 10.5 & 10.5\\\\\n",
       "\\end{tabular}\n"
      ],
      "text/markdown": [
       "1. 10.5\n",
       "2. 10.5\n",
       "3. 10.5\n",
       "4. 10.5\n",
       "5. 10.5\n",
       "6. 10.5\n",
       "7. 10.5\n",
       "8. 10.5\n",
       "9. 10.5\n",
       "10. 10.5\n",
       "11. 10.5\n",
       "12. 10.5\n",
       "13. 10.5\n",
       "14. 10.5\n",
       "15. 10.5\n",
       "16. 10.5\n",
       "\n",
       "\n"
      ],
      "text/plain": [
       "     B1   B2   B3   B4\n",
       "A1 10.5 10.5 10.5 10.5\n",
       "A2 10.5 10.5 10.5 10.5\n",
       "A3 10.5 10.5 10.5 10.5\n",
       "A4 10.5 10.5 10.5 10.5"
      ]
     },
     "execution_count": 33,
     "metadata": {},
     "output_type": "execute_result"
    },
    {
     "data": {
      "text/html": [
       "<table>\n",
       "<thead><tr><th></th><th scope=col>B1</th><th scope=col>B2</th><th scope=col>B3</th><th scope=col>B4</th></tr></thead>\n",
       "<tbody>\n",
       "\t<tr><th scope=row>A1</th><td> 1.08</td><td> 1.08</td><td>-1.08</td><td>-1.08</td></tr>\n",
       "\t<tr><th scope=row>A2</th><td> 1.08</td><td> 1.08</td><td>-1.08</td><td>-1.08</td></tr>\n",
       "\t<tr><th scope=row>A3</th><td>-1.08</td><td>-1.08</td><td> 1.08</td><td> 1.08</td></tr>\n",
       "\t<tr><th scope=row>A4</th><td>-1.08</td><td>-1.08</td><td> 1.08</td><td> 1.08</td></tr>\n",
       "</tbody>\n",
       "</table>\n"
      ],
      "text/latex": [
       "\\begin{tabular}{r|llll}\n",
       "  & B1 & B2 & B3 & B4\\\\\n",
       "\\hline\n",
       "\tA1 &  1.08 &  1.08 & -1.08 & -1.08\\\\\n",
       "\tA2 &  1.08 &  1.08 & -1.08 & -1.08\\\\\n",
       "\tA3 & -1.08 & -1.08 &  1.08 &  1.08\\\\\n",
       "\tA4 & -1.08 & -1.08 &  1.08 &  1.08\\\\\n",
       "\\end{tabular}\n"
      ],
      "text/markdown": [
       "1. 1.08\n",
       "2. 1.08\n",
       "3. -1.08\n",
       "4. -1.08\n",
       "5. 1.08\n",
       "6. 1.08\n",
       "7. -1.08\n",
       "8. -1.08\n",
       "9. -1.08\n",
       "10. -1.08\n",
       "11. 1.08\n",
       "12. 1.08\n",
       "13. -1.08\n",
       "14. -1.08\n",
       "15. 1.08\n",
       "16. 1.08\n",
       "\n",
       "\n"
      ],
      "text/plain": [
       "      B1    B2    B3    B4\n",
       "A1  1.08  1.08 -1.08 -1.08\n",
       "A2  1.08  1.08 -1.08 -1.08\n",
       "A3 -1.08 -1.08  1.08  1.08\n",
       "A4 -1.08 -1.08  1.08  1.08"
      ]
     },
     "execution_count": 33,
     "metadata": {},
     "output_type": "execute_result"
    },
    {
     "data": {
      "text/plain": [
       "\n",
       "\tPearson's Chi-squared test\n",
       "\n",
       "data:  myMat\n",
       "X-squared = 18.667, df = 9, p-value = 0.02818\n"
      ]
     },
     "execution_count": 33,
     "metadata": {},
     "output_type": "execute_result"
    }
   ],
   "source": [
    "myDF = read.csv( file=\"../DBDA2Eprograms/FourByFourCount.csv\" )\n",
    "countMult = 7 # try 3, 7, and 11\n",
    "myDF$Count = round( myDF$Count * countMult )\n",
    "myMat = acast( myDF , A ~ B , value.var=\"Count\")\n",
    "Xsq = chisq.test(myMat)\n",
    "Xsq$observed\n",
    "round(Xsq$expected,2)\n",
    "round(Xsq$residuals,2)\n",
    "Xsq"
   ]
  },
  {
   "cell_type": "code",
   "execution_count": 37,
   "metadata": {
    "collapsed": false
   },
   "outputs": [
    {
     "name": "stderr",
     "output_type": "stream",
     "text": [
      "Warning message:\n",
      "In chisq.test(myMat): Chi-squared approximation may be incorrect"
     ]
    },
    {
     "data": {
      "text/html": [
       "<table>\n",
       "<thead><tr><th></th><th scope=col>B1</th><th scope=col>B2</th><th scope=col>B3</th><th scope=col>B4</th></tr></thead>\n",
       "<tbody>\n",
       "\t<tr><th scope=row>A1</th><td>6</td><td>6</td><td>3</td><td>3</td></tr>\n",
       "\t<tr><th scope=row>A2</th><td>6</td><td>6</td><td>3</td><td>3</td></tr>\n",
       "\t<tr><th scope=row>A3</th><td>3</td><td>3</td><td>6</td><td>6</td></tr>\n",
       "\t<tr><th scope=row>A4</th><td>3</td><td>3</td><td>6</td><td>6</td></tr>\n",
       "</tbody>\n",
       "</table>\n"
      ],
      "text/latex": [
       "\\begin{tabular}{r|llll}\n",
       "  & B1 & B2 & B3 & B4\\\\\n",
       "\\hline\n",
       "\tA1 & 6 & 6 & 3 & 3\\\\\n",
       "\tA2 & 6 & 6 & 3 & 3\\\\\n",
       "\tA3 & 3 & 3 & 6 & 6\\\\\n",
       "\tA4 & 3 & 3 & 6 & 6\\\\\n",
       "\\end{tabular}\n"
      ],
      "text/markdown": [
       "1. 6\n",
       "2. 6\n",
       "3. 3\n",
       "4. 3\n",
       "5. 6\n",
       "6. 6\n",
       "7. 3\n",
       "8. 3\n",
       "9. 3\n",
       "10. 3\n",
       "11. 6\n",
       "12. 6\n",
       "13. 3\n",
       "14. 3\n",
       "15. 6\n",
       "16. 6\n",
       "\n",
       "\n"
      ],
      "text/plain": [
       "   B1 B2 B3 B4\n",
       "A1  6  6  3  3\n",
       "A2  6  6  3  3\n",
       "A3  3  3  6  6\n",
       "A4  3  3  6  6"
      ]
     },
     "execution_count": 37,
     "metadata": {},
     "output_type": "execute_result"
    },
    {
     "data": {
      "text/html": [
       "<table>\n",
       "<thead><tr><th></th><th scope=col>B1</th><th scope=col>B2</th><th scope=col>B3</th><th scope=col>B4</th></tr></thead>\n",
       "<tbody>\n",
       "\t<tr><th scope=row>A1</th><td>4.5</td><td>4.5</td><td>4.5</td><td>4.5</td></tr>\n",
       "\t<tr><th scope=row>A2</th><td>4.5</td><td>4.5</td><td>4.5</td><td>4.5</td></tr>\n",
       "\t<tr><th scope=row>A3</th><td>4.5</td><td>4.5</td><td>4.5</td><td>4.5</td></tr>\n",
       "\t<tr><th scope=row>A4</th><td>4.5</td><td>4.5</td><td>4.5</td><td>4.5</td></tr>\n",
       "</tbody>\n",
       "</table>\n"
      ],
      "text/latex": [
       "\\begin{tabular}{r|llll}\n",
       "  & B1 & B2 & B3 & B4\\\\\n",
       "\\hline\n",
       "\tA1 & 4.5 & 4.5 & 4.5 & 4.5\\\\\n",
       "\tA2 & 4.5 & 4.5 & 4.5 & 4.5\\\\\n",
       "\tA3 & 4.5 & 4.5 & 4.5 & 4.5\\\\\n",
       "\tA4 & 4.5 & 4.5 & 4.5 & 4.5\\\\\n",
       "\\end{tabular}\n"
      ],
      "text/markdown": [
       "1. 4.5\n",
       "2. 4.5\n",
       "3. 4.5\n",
       "4. 4.5\n",
       "5. 4.5\n",
       "6. 4.5\n",
       "7. 4.5\n",
       "8. 4.5\n",
       "9. 4.5\n",
       "10. 4.5\n",
       "11. 4.5\n",
       "12. 4.5\n",
       "13. 4.5\n",
       "14. 4.5\n",
       "15. 4.5\n",
       "16. 4.5\n",
       "\n",
       "\n"
      ],
      "text/plain": [
       "    B1  B2  B3  B4\n",
       "A1 4.5 4.5 4.5 4.5\n",
       "A2 4.5 4.5 4.5 4.5\n",
       "A3 4.5 4.5 4.5 4.5\n",
       "A4 4.5 4.5 4.5 4.5"
      ]
     },
     "execution_count": 37,
     "metadata": {},
     "output_type": "execute_result"
    },
    {
     "data": {
      "text/html": [
       "<table>\n",
       "<thead><tr><th></th><th scope=col>B1</th><th scope=col>B2</th><th scope=col>B3</th><th scope=col>B4</th></tr></thead>\n",
       "<tbody>\n",
       "\t<tr><th scope=row>A1</th><td> 0.71</td><td> 0.71</td><td>-0.71</td><td>-0.71</td></tr>\n",
       "\t<tr><th scope=row>A2</th><td> 0.71</td><td> 0.71</td><td>-0.71</td><td>-0.71</td></tr>\n",
       "\t<tr><th scope=row>A3</th><td>-0.71</td><td>-0.71</td><td> 0.71</td><td> 0.71</td></tr>\n",
       "\t<tr><th scope=row>A4</th><td>-0.71</td><td>-0.71</td><td> 0.71</td><td> 0.71</td></tr>\n",
       "</tbody>\n",
       "</table>\n"
      ],
      "text/latex": [
       "\\begin{tabular}{r|llll}\n",
       "  & B1 & B2 & B3 & B4\\\\\n",
       "\\hline\n",
       "\tA1 &  0.71 &  0.71 & -0.71 & -0.71\\\\\n",
       "\tA2 &  0.71 &  0.71 & -0.71 & -0.71\\\\\n",
       "\tA3 & -0.71 & -0.71 &  0.71 &  0.71\\\\\n",
       "\tA4 & -0.71 & -0.71 &  0.71 &  0.71\\\\\n",
       "\\end{tabular}\n"
      ],
      "text/markdown": [
       "1. 0.71\n",
       "2. 0.71\n",
       "3. -0.71\n",
       "4. -0.71\n",
       "5. 0.71\n",
       "6. 0.71\n",
       "7. -0.71\n",
       "8. -0.71\n",
       "9. -0.71\n",
       "10. -0.71\n",
       "11. 0.71\n",
       "12. 0.71\n",
       "13. -0.71\n",
       "14. -0.71\n",
       "15. 0.71\n",
       "16. 0.71\n",
       "\n",
       "\n"
      ],
      "text/plain": [
       "      B1    B2    B3    B4\n",
       "A1  0.71  0.71 -0.71 -0.71\n",
       "A2  0.71  0.71 -0.71 -0.71\n",
       "A3 -0.71 -0.71  0.71  0.71\n",
       "A4 -0.71 -0.71  0.71  0.71"
      ]
     },
     "execution_count": 37,
     "metadata": {},
     "output_type": "execute_result"
    },
    {
     "data": {
      "text/plain": [
       "\n",
       "\tPearson's Chi-squared test\n",
       "\n",
       "data:  myMat\n",
       "X-squared = 8, df = 9, p-value = 0.5341\n"
      ]
     },
     "execution_count": 37,
     "metadata": {},
     "output_type": "execute_result"
    }
   ],
   "source": [
    "myDF = read.csv( file=\"../DBDA2Eprograms/FourByFourCount.csv\" )\n",
    "countMult = 3 # try 3, 7, and 11\n",
    "myDF$Count = round( myDF$Count * countMult )\n",
    "myMat = acast( myDF , A ~ B , value.var=\"Count\")\n",
    "Xsq = chisq.test(myMat)\n",
    "Xsq$observed\n",
    "round(Xsq$expected,2)\n",
    "round(Xsq$residuals,2)\n",
    "Xsq"
   ]
  },
  {
   "cell_type": "markdown",
   "metadata": {},
   "source": [
    "* 까이 스꿰어 검증의 결론이 베이지안 추정 결론과 일치하는가?\n",
    " * countMult=7로 베이지안 추론을 돌려야 한다.\n",
    "* 옴니버스 까이 스꿰어 검증을 베이지안 상호작용 대비와 비교할 수 있는가?\n",
    "* 더 해볼 사람들은:\n",
    " * ala2SD 자료와 베이지안 추정을를 해 봐라."
   ]
  },
  {
   "cell_type": "markdown",
   "metadata": {},
   "source": [
    "# Thank you so much"
   ]
  },
  {
   "cell_type": "markdown",
   "metadata": {},
   "source": [
    "# Q&A by sol2man2"
   ]
  }
 ],
 "metadata": {
  "kernelspec": {
   "display_name": "R",
   "language": "R",
   "name": "ir"
  },
  "language_info": {
   "codemirror_mode": "r",
   "file_extension": ".r",
   "mimetype": "text/x-r-source",
   "name": "R",
   "pygments_lexer": "r",
   "version": "3.2.2"
  }
 },
 "nbformat": 4,
 "nbformat_minor": 0
}
